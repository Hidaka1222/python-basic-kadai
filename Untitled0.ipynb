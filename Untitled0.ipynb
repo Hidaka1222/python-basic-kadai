{
  "nbformat": 4,
  "nbformat_minor": 0,
  "metadata": {
    "colab": {
      "provenance": []
    },
    "kernelspec": {
      "name": "python3",
      "display_name": "Python 3"
    },
    "language_info": {
      "name": "python"
    }
  },
  "cells": [
    {
      "cell_type": "code",
      "execution_count": null,
      "metadata": {
        "colab": {
          "base_uri": "https://localhost:8080/"
        },
        "id": "I0ugrg2cCa2y",
        "outputId": "69147226-78ab-45cf-9169-60c1792ef1e9"
      },
      "outputs": [
        {
          "output_type": "stream",
          "name": "stdout",
          "text": [
            "75.0cm²\n"
          ]
        }
      ],
      "source": [
        "top = 10\n",
        "bottom = 20\n",
        "height = 5\n",
        "\n",
        "area = (top + bottom) * height / 2\n",
        "\n",
        "print(str(area) + \"cm²\")"
      ]
    },
    {
      "cell_type": "code",
      "source": [
        "array = [\"月曜日は晴れです\",\"火曜日は雨です\",\"水曜日は晴れです\",\"木曜日は晴れです\",\"金曜日は曇りです\",\"土曜日は曇りのち雨です\",\"日曜日は雷雨です\"]\n",
        "print(array)\n",
        "print(array[0])\n",
        "print(array[1])\n",
        "print(array[2])\n",
        "print(array[3])\n",
        "print(array[4])\n",
        "print(array[5])\n",
        "print(array[6])"
      ],
      "metadata": {
        "colab": {
          "base_uri": "https://localhost:8080/"
        },
        "id": "SULar6CIVl1V",
        "outputId": "497815f9-8af3-46b9-db2e-d98e00d3add3"
      },
      "execution_count": 12,
      "outputs": [
        {
          "output_type": "stream",
          "name": "stdout",
          "text": [
            "['月曜日は晴れです', '火曜日は雨です', '水曜日は晴れです', '木曜日は晴れです', '金曜日は曇りです', '土曜日は曇りのち雨です', '日曜日は雷雨です']\n",
            "月曜日は晴れです\n",
            "火曜日は雨です\n",
            "水曜日は晴れです\n",
            "木曜日は晴れです\n",
            "金曜日は曇りです\n",
            "土曜日は曇りのち雨です\n",
            "日曜日は雷雨です\n"
          ]
        }
      ]
    },
    {
      "cell_type": "code",
      "source": [
        "dictionary = {\"mon\":\"晴れ\",\"tue\":\"雨\",\"wed\":\"晴れ\",\"thu\":\"晴れ\",\"fri\":\"曇り\",\"sat\":\"曇りのち雨\",\"sun\":\"雷雨\"}\n",
        "print(dictionary)\n",
        "print(dictionary[\"mon\"])\n",
        "print(dictionary[\"tue\"])\n",
        "print(dictionary[\"wed\"])\n",
        "print(dictionary[\"thu\"])\n",
        "print(dictionary[\"fri\"])\n",
        "print(dictionary[\"sat\"])\n",
        "print(dictionary[\"sun\"])"
      ],
      "metadata": {
        "colab": {
          "base_uri": "https://localhost:8080/"
        },
        "id": "EU2WNgL_ZOJd",
        "outputId": "4d1cb53f-6f7f-4d0a-da02-4aa3de1d9f00"
      },
      "execution_count": 16,
      "outputs": [
        {
          "output_type": "stream",
          "name": "stdout",
          "text": [
            "{'mon': '晴れ', 'tue': '雨', 'wed': '晴れ', 'thu': '晴れ', 'fri': '曇り', 'sat': '曇りのち雨', 'sun': '雷雨'}\n",
            "晴れ\n",
            "雨\n",
            "晴れ\n",
            "晴れ\n",
            "曇り\n",
            "曇りのち雨\n",
            "雷雨\n"
          ]
        }
      ]
    }
  ]
}